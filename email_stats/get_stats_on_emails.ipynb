{
 "cells": [
  {
   "cell_type": "code",
   "execution_count": 2,
   "id": "c9f97798-f44e-4bda-a979-b5de0376ec2c",
   "metadata": {},
   "outputs": [],
   "source": [
    "import awswrangler as wr\n",
    "import boto3\n",
    "import gzip\n",
    "import json\n",
    "import io\n",
    "import pandas as pd\n",
    "from tqdm import tqdm\n",
    "from datetime import datetime, timedelta\n",
    "from concurrent.futures import ProcessPoolExecutor, as_completed"
   ]
  },
  {
   "cell_type": "code",
   "execution_count": 3,
   "id": "6db428e4-5055-468c-9524-b2e898a2c9e7",
   "metadata": {},
   "outputs": [],
   "source": [
    "pd.set_option('display.max_colwidth', 500)\n",
    "pd.set_option('display.max_rows', 500)\n",
    "pd.set_option('display.max_columns', 500)"
   ]
  },
  {
   "cell_type": "code",
   "execution_count": 25,
   "id": "2c28684c-dc7c-4ceb-85b8-19d021cd92fc",
   "metadata": {},
   "outputs": [],
   "source": [
    "sts = boto3.Session().client(\"sts\", region_name=\"us-east-1\")\n",
    "response = sts.assume_role(\n",
    "    RoleArn=\"arn:aws:iam::375084544312:role/mimesample_delegate\",\n",
    "    RoleSessionName=\"mimesamples-access\"\n",
    ")\n",
    "\n",
    "ACCESS_KEY = response[\"Credentials\"][\"AccessKeyId\"]\n",
    "SECRET_KEY = response[\"Credentials\"][\"SecretAccessKey\"]\n",
    "SESSION_TOKEN = response[\"Credentials\"][\"SessionToken\"]\n",
    "\n",
    "session = boto3.Session(\n",
    "    aws_access_key_id=ACCESS_KEY,\n",
    "    aws_secret_access_key=SECRET_KEY,\n",
    "    aws_session_token=SESSION_TOKEN\n",
    ")"
   ]
  },
  {
   "cell_type": "code",
   "execution_count": 26,
   "id": "786ae584-4321-4c81-bcaf-6c40eec0d1ae",
   "metadata": {},
   "outputs": [],
   "source": [
    "s3 = session.client(\"s3\")\n",
    "bucket_name = 'mime-samples-production'"
   ]
  },
  {
   "cell_type": "markdown",
   "id": "38bbb5d1-041f-4164-adcd-5962a4864257",
   "metadata": {},
   "source": [
    "## Getting the email count of suspended users"
   ]
  },
  {
   "cell_type": "code",
   "execution_count": 15,
   "id": "58b07ea4-3cf8-4003-9187-fe787ec63e7f",
   "metadata": {},
   "outputs": [
    {
     "ename": "NameError",
     "evalue": "name 'users' is not defined",
     "output_type": "error",
     "traceback": [
      "\u001b[0;31m---------------------------------------------------------------------------\u001b[0m",
      "\u001b[0;31mNameError\u001b[0m                                 Traceback (most recent call last)",
      "Cell \u001b[0;32mIn[15], line 19\u001b[0m\n\u001b[1;32m     17\u001b[0m results \u001b[38;5;241m=\u001b[39m []\n\u001b[1;32m     18\u001b[0m \u001b[38;5;28;01mwith\u001b[39;00m ThreadPoolExecutor(max_workers\u001b[38;5;241m=\u001b[39m\u001b[38;5;241m10\u001b[39m) \u001b[38;5;28;01mas\u001b[39;00m executor:\n\u001b[0;32m---> 19\u001b[0m     futures \u001b[38;5;241m=\u001b[39m [executor\u001b[38;5;241m.\u001b[39msubmit(process_user, user_id) \u001b[38;5;28;01mfor\u001b[39;00m user_id \u001b[38;5;129;01min\u001b[39;00m \u001b[43musers\u001b[49m]\n\u001b[1;32m     20\u001b[0m     \u001b[38;5;28;01mfor\u001b[39;00m future \u001b[38;5;129;01min\u001b[39;00m tqdm(as_completed(futures), total\u001b[38;5;241m=\u001b[39m\u001b[38;5;28mlen\u001b[39m(users), desc\u001b[38;5;241m=\u001b[39m\u001b[38;5;124m\"\u001b[39m\u001b[38;5;124mProcessing users\u001b[39m\u001b[38;5;124m\"\u001b[39m):\n\u001b[1;32m     21\u001b[0m         results\u001b[38;5;241m.\u001b[39mappend(future\u001b[38;5;241m.\u001b[39mresult())\n",
      "\u001b[0;31mNameError\u001b[0m: name 'users' is not defined"
     ]
    }
   ],
   "source": [
    "from concurrent.futures import ThreadPoolExecutor, as_completed\n",
    "from tqdm import tqdm\n",
    "\n",
    "def process_user(user_id):\n",
    "    try:\n",
    "        s3_path = f's3://mime-samples-production/users/{user_id}'\n",
    "        file_list = wr.s3.list_objects(s3_path, boto3_session=session)\n",
    "        count = len(file_list)\n",
    "        actual_email_count = 0\n",
    "        for file in file_list:\n",
    "            actual_email_count += wr.s3.read_json(file, boto3_session=session).shape[0]\n",
    "        return (user_id, count, actual_email_count)\n",
    "    except Exception as e:\n",
    "        print(e)\n",
    "        return (user_id, 0, 0)\n",
    "\n",
    "results = []\n",
    "with ThreadPoolExecutor(max_workers=10) as executor:\n",
    "    futures = [executor.submit(process_user, user_id) for user_id in users]\n",
    "    for future in tqdm(as_completed(futures), total=len(users), desc=\"Processing users\"):\n",
    "        results.append(future.result())\n",
    "\n",
    "df = pd.DataFrame(results, columns=[\"user_id\", \"email_count\", \"actual_email_count\"])\n"
   ]
  },
  {
   "cell_type": "code",
   "execution_count": null,
   "id": "d8792370-38e5-4ffe-b92d-a2f84e78a509",
   "metadata": {},
   "outputs": [],
   "source": [
    "df.to_csv(\"suspended_user_email_count.csv\",index=False)"
   ]
  },
  {
   "cell_type": "markdown",
   "id": "ffa7ae02-e623-488f-b3be-a5056b4ffc09",
   "metadata": {},
   "source": [
    "## Getting the email count datewise"
   ]
  },
  {
   "cell_type": "code",
   "execution_count": 27,
   "id": "cb100b81-cefa-45ed-8b36-2475a3ae2c06",
   "metadata": {},
   "outputs": [
    {
     "name": "stderr",
     "output_type": "stream",
     "text": [
      "Processing dates: 100%|██████████| 1/1 [35:58<00:00, 2158.68s/it]\n"
     ]
    }
   ],
   "source": [
    "import awswrangler as wr\n",
    "import boto3\n",
    "import gzip\n",
    "import pandas as pd\n",
    "from datetime import datetime, timedelta\n",
    "from concurrent.futures import ProcessPoolExecutor, as_completed\n",
    "from tqdm import tqdm\n",
    "\n",
    "# Dates: last 30 days\n",
    "start_date = datetime.strptime(\"2025-03-17\", \"%Y-%m-%d\")\n",
    "end_date = datetime.strptime(\"2025-03-17\", \"%Y-%m-%d\")\n",
    "days = (end_date - start_date).days + 1\n",
    "\n",
    "dates = [(start_date + timedelta(days=i)).strftime(\"%Y%m%d\") for i in range(days)]\n",
    "\n",
    "# Only count lines in each gzipped file (each line = one email)\n",
    "def process_day(day_str):\n",
    "    try:\n",
    "        s3_path = f\"s3://mime-samples-production/json/day={day_str}\"\n",
    "        file_list = wr.s3.list_objects(s3_path, boto3_session=session)\n",
    "\n",
    "        if not file_list:\n",
    "            return pd.DataFrame()  # Nothing for this day\n",
    "\n",
    "        counts = []\n",
    "        for key in file_list:\n",
    "            try:\n",
    "                no_scheme = key.replace(\"s3://\", \"\", 1)\n",
    "                bucket_name, prefix = no_scheme.split(\"/\", 1)\n",
    "\n",
    "                obj = s3.get_object(Bucket=bucket_name, Key=prefix)\n",
    "                with gzip.GzipFile(fileobj=obj['Body']) as gz:\n",
    "                    line_count = sum(1 for _ in gz)\n",
    "\n",
    "                counts.append({\n",
    "                    \"date\": pd.to_datetime(day_str).date(),\n",
    "                    \"source_file\": key,\n",
    "                    \"email_count\": line_count\n",
    "                })\n",
    "\n",
    "            except Exception as e:\n",
    "                counts.append({\n",
    "                    \"date\": pd.to_datetime(day_str).date(),\n",
    "                    \"source_file\": key,\n",
    "                    \"email_count\": 0,\n",
    "                    \"error\": str(e)\n",
    "                })\n",
    "\n",
    "        return pd.DataFrame(counts)\n",
    "    \n",
    "    except Exception as e:\n",
    "        print(f\"[Error] Failed to process day {day_str}: {e}\")\n",
    "        return pd.DataFrame()\n",
    "\n",
    "# Run the processing function in parallel\n",
    "all_dfs = []\n",
    "MAX_WORKERS = 4\n",
    "\n",
    "with ProcessPoolExecutor(max_workers=MAX_WORKERS) as executor:\n",
    "    futures = {executor.submit(process_day, day): day for day in dates}\n",
    "    for future in tqdm(as_completed(futures), total=len(futures), desc=\"Processing dates\"):\n",
    "        try:\n",
    "            result = future.result()\n",
    "            if not result.empty:\n",
    "                all_dfs.append(result)\n",
    "        except Exception as e:\n",
    "            print(f\"[Thread Error] Date {futures[future]} failed: {e}\")\n",
    "\n",
    "# Final aggregation\n",
    "if all_dfs:\n",
    "    dfs = pd.concat(all_dfs, ignore_index=True)\n",
    "else:\n",
    "    dfs = pd.DataFrame()\n"
   ]
  },
  {
   "cell_type": "code",
   "execution_count": 24,
   "id": "7cb72ac1-7c3b-4341-9572-128505672936",
   "metadata": {},
   "outputs": [
    {
     "data": {
      "text/html": [
       "<div>\n",
       "<style scoped>\n",
       "    .dataframe tbody tr th:only-of-type {\n",
       "        vertical-align: middle;\n",
       "    }\n",
       "\n",
       "    .dataframe tbody tr th {\n",
       "        vertical-align: top;\n",
       "    }\n",
       "\n",
       "    .dataframe thead th {\n",
       "        text-align: right;\n",
       "    }\n",
       "</style>\n",
       "<table border=\"1\" class=\"dataframe\">\n",
       "  <thead>\n",
       "    <tr style=\"text-align: right;\">\n",
       "      <th></th>\n",
       "      <th>date</th>\n",
       "      <th>email_count</th>\n",
       "    </tr>\n",
       "  </thead>\n",
       "  <tbody>\n",
       "    <tr>\n",
       "      <th>0</th>\n",
       "      <td>2025-03-22</td>\n",
       "      <td>5040177</td>\n",
       "    </tr>\n",
       "  </tbody>\n",
       "</table>\n",
       "</div>"
      ],
      "text/plain": [
       "         date  email_count\n",
       "0  2025-03-22      5040177"
      ]
     },
     "execution_count": 24,
     "metadata": {},
     "output_type": "execute_result"
    }
   ],
   "source": [
    "dfs.groupby('date')['email_count'].sum().reset_index()"
   ]
  },
  {
   "cell_type": "code",
   "execution_count": null,
   "id": "cee1eb47-25f7-4048-af60-daedad7c510c",
   "metadata": {},
   "outputs": [],
   "source": []
  }
 ],
 "metadata": {
  "kernelspec": {
   "display_name": "Python 3 (ipykernel)",
   "language": "python",
   "name": "python3"
  },
  "language_info": {
   "codemirror_mode": {
    "name": "ipython",
    "version": 3
   },
   "file_extension": ".py",
   "mimetype": "text/x-python",
   "name": "python",
   "nbconvert_exporter": "python",
   "pygments_lexer": "ipython3",
   "version": "3.10.14"
  }
 },
 "nbformat": 4,
 "nbformat_minor": 5
}
